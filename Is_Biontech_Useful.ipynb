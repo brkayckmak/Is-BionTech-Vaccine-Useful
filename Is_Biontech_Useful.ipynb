{
 "cells": [
  {
   "cell_type": "markdown",
   "metadata": {},
   "source": [
    "# Is the Biontech vaccine useful for the coronavirus?"
   ]
  },
  {
   "cell_type": "markdown",
   "metadata": {},
   "source": [
    "Hypotheses:\n",
    "\n",
    "H0: μb = μa (There is no difference before and after the BionTech vaccine. )\n",
    "\n",
    "H1: μb != μa (There is difference before and after the BionTech vaccine. )"
   ]
  },
  {
   "cell_type": "code",
   "execution_count": 2,
   "metadata": {},
   "outputs": [],
   "source": [
    "import pandas as pd\n",
    "import numpy as np\n",
    "import seaborn as sns\n",
    "from scipy.stats import shapiro\n",
    "import scipy.stats as stats"
   ]
  },
  {
   "cell_type": "markdown",
   "metadata": {},
   "source": [
    "Importing Turkey coronavirus number of cases to Python;"
   ]
  },
  {
   "cell_type": "code",
   "execution_count": 3,
   "metadata": {},
   "outputs": [
    {
     "data": {
      "text/html": [
       "<div>\n",
       "<style scoped>\n",
       "    .dataframe tbody tr th:only-of-type {\n",
       "        vertical-align: middle;\n",
       "    }\n",
       "\n",
       "    .dataframe tbody tr th {\n",
       "        vertical-align: top;\n",
       "    }\n",
       "\n",
       "    .dataframe thead th {\n",
       "        text-align: right;\n",
       "    }\n",
       "</style>\n",
       "<table border=\"1\" class=\"dataframe\">\n",
       "  <thead>\n",
       "    <tr style=\"text-align: right;\">\n",
       "      <th></th>\n",
       "      <th>patients</th>\n",
       "      <th>totalPatients</th>\n",
       "      <th>deaths</th>\n",
       "      <th>totalDeaths</th>\n",
       "      <th>recovered</th>\n",
       "      <th>totalRecovered</th>\n",
       "      <th>totalIntubated</th>\n",
       "      <th>totalIntensiveCare</th>\n",
       "      <th>tests</th>\n",
       "      <th>totalTests</th>\n",
       "      <th>date</th>\n",
       "      <th>critical</th>\n",
       "      <th>pneumoniaPercent</th>\n",
       "      <th>cases</th>\n",
       "    </tr>\n",
       "  </thead>\n",
       "  <tbody>\n",
       "    <tr>\n",
       "      <th>468</th>\n",
       "      <td>565</td>\n",
       "      <td>5381736</td>\n",
       "      <td>57</td>\n",
       "      <td>49293</td>\n",
       "      <td>5214</td>\n",
       "      <td>5242945</td>\n",
       "      <td>NaN</td>\n",
       "      <td>NaN</td>\n",
       "      <td>223238</td>\n",
       "      <td>58997073</td>\n",
       "      <td>22/06/2021</td>\n",
       "      <td>791.0</td>\n",
       "      <td>%2,9</td>\n",
       "      <td>6143.0</td>\n",
       "    </tr>\n",
       "    <tr>\n",
       "      <th>469</th>\n",
       "      <td>550</td>\n",
       "      <td>5387545</td>\n",
       "      <td>65</td>\n",
       "      <td>49358</td>\n",
       "      <td>5917</td>\n",
       "      <td>5248862</td>\n",
       "      <td>NaN</td>\n",
       "      <td>NaN</td>\n",
       "      <td>224192</td>\n",
       "      <td>59221265</td>\n",
       "      <td>23/06/2021</td>\n",
       "      <td>763.0</td>\n",
       "      <td>%2,9</td>\n",
       "      <td>5809.0</td>\n",
       "    </tr>\n",
       "    <tr>\n",
       "      <th>470</th>\n",
       "      <td>498</td>\n",
       "      <td>5393248</td>\n",
       "      <td>59</td>\n",
       "      <td>49417</td>\n",
       "      <td>5846</td>\n",
       "      <td>5254708</td>\n",
       "      <td>NaN</td>\n",
       "      <td>NaN</td>\n",
       "      <td>223385</td>\n",
       "      <td>59444650</td>\n",
       "      <td>24/06/2021</td>\n",
       "      <td>752.0</td>\n",
       "      <td>%2,9</td>\n",
       "      <td>5703.0</td>\n",
       "    </tr>\n",
       "    <tr>\n",
       "      <th>471</th>\n",
       "      <td>477</td>\n",
       "      <td>5398878</td>\n",
       "      <td>56</td>\n",
       "      <td>49473</td>\n",
       "      <td>7184</td>\n",
       "      <td>5261892</td>\n",
       "      <td>NaN</td>\n",
       "      <td>NaN</td>\n",
       "      <td>222936</td>\n",
       "      <td>59667586</td>\n",
       "      <td>25/06/2021</td>\n",
       "      <td>737.0</td>\n",
       "      <td>%2,9</td>\n",
       "      <td>5630.0</td>\n",
       "    </tr>\n",
       "    <tr>\n",
       "      <th>472</th>\n",
       "      <td>470</td>\n",
       "      <td>5404144</td>\n",
       "      <td>51</td>\n",
       "      <td>49524</td>\n",
       "      <td>7402</td>\n",
       "      <td>5269294</td>\n",
       "      <td>NaN</td>\n",
       "      <td>NaN</td>\n",
       "      <td>222561</td>\n",
       "      <td>59890147</td>\n",
       "      <td>26/06/2021</td>\n",
       "      <td>733.0</td>\n",
       "      <td>%2,9</td>\n",
       "      <td>5266.0</td>\n",
       "    </tr>\n",
       "  </tbody>\n",
       "</table>\n",
       "</div>"
      ],
      "text/plain": [
       "     patients  totalPatients  deaths  totalDeaths  recovered  totalRecovered  \\\n",
       "468       565        5381736      57        49293       5214         5242945   \n",
       "469       550        5387545      65        49358       5917         5248862   \n",
       "470       498        5393248      59        49417       5846         5254708   \n",
       "471       477        5398878      56        49473       7184         5261892   \n",
       "472       470        5404144      51        49524       7402         5269294   \n",
       "\n",
       "     totalIntubated  totalIntensiveCare   tests  totalTests        date  \\\n",
       "468             NaN                 NaN  223238    58997073  22/06/2021   \n",
       "469             NaN                 NaN  224192    59221265  23/06/2021   \n",
       "470             NaN                 NaN  223385    59444650  24/06/2021   \n",
       "471             NaN                 NaN  222936    59667586  25/06/2021   \n",
       "472             NaN                 NaN  222561    59890147  26/06/2021   \n",
       "\n",
       "     critical pneumoniaPercent   cases  \n",
       "468     791.0             %2,9  6143.0  \n",
       "469     763.0             %2,9  5809.0  \n",
       "470     752.0             %2,9  5703.0  \n",
       "471     737.0             %2,9  5630.0  \n",
       "472     733.0             %2,9  5266.0  "
      ]
     },
     "execution_count": 3,
     "metadata": {},
     "output_type": "execute_result"
    }
   ],
   "source": [
    "df = pd.read_csv(\"./timeline.csv\", sep = \",\")\n",
    "df.tail()"
   ]
  },
  {
   "cell_type": "markdown",
   "metadata": {},
   "source": [
    "We will analyze the cases column."
   ]
  },
  {
   "cell_type": "code",
   "execution_count": 4,
   "metadata": {},
   "outputs": [
    {
     "data": {
      "text/html": [
       "<div>\n",
       "<style scoped>\n",
       "    .dataframe tbody tr th:only-of-type {\n",
       "        vertical-align: middle;\n",
       "    }\n",
       "\n",
       "    .dataframe tbody tr th {\n",
       "        vertical-align: top;\n",
       "    }\n",
       "\n",
       "    .dataframe thead th {\n",
       "        text-align: right;\n",
       "    }\n",
       "</style>\n",
       "<table border=\"1\" class=\"dataframe\">\n",
       "  <thead>\n",
       "    <tr style=\"text-align: right;\">\n",
       "      <th></th>\n",
       "      <th>date</th>\n",
       "      <th>cases</th>\n",
       "    </tr>\n",
       "  </thead>\n",
       "  <tbody>\n",
       "    <tr>\n",
       "      <th>468</th>\n",
       "      <td>22/06/2021</td>\n",
       "      <td>6143.0</td>\n",
       "    </tr>\n",
       "    <tr>\n",
       "      <th>469</th>\n",
       "      <td>23/06/2021</td>\n",
       "      <td>5809.0</td>\n",
       "    </tr>\n",
       "    <tr>\n",
       "      <th>470</th>\n",
       "      <td>24/06/2021</td>\n",
       "      <td>5703.0</td>\n",
       "    </tr>\n",
       "    <tr>\n",
       "      <th>471</th>\n",
       "      <td>25/06/2021</td>\n",
       "      <td>5630.0</td>\n",
       "    </tr>\n",
       "    <tr>\n",
       "      <th>472</th>\n",
       "      <td>26/06/2021</td>\n",
       "      <td>5266.0</td>\n",
       "    </tr>\n",
       "  </tbody>\n",
       "</table>\n",
       "</div>"
      ],
      "text/plain": [
       "           date   cases\n",
       "468  22/06/2021  6143.0\n",
       "469  23/06/2021  5809.0\n",
       "470  24/06/2021  5703.0\n",
       "471  25/06/2021  5630.0\n",
       "472  26/06/2021  5266.0"
      ]
     },
     "execution_count": 4,
     "metadata": {},
     "output_type": "execute_result"
    }
   ],
   "source": [
    "df1 = df[[\"date\",\"cases\"]]\n",
    "df1 = pd.DataFrame(df1)\n",
    "df1.tail()"
   ]
  },
  {
   "cell_type": "markdown",
   "metadata": {},
   "source": [
    "We need the number of case data between 26.04.2021 and 26.06.2021 because a lot of BionTech vaccine came to Turkey at 26.05.2021 and people started vaccinated. So we will analyze 1 month before and 1 month after from vaccine arrives."
   ]
  },
  {
   "cell_type": "code",
   "execution_count": 5,
   "metadata": {},
   "outputs": [
    {
     "data": {
      "text/html": [
       "<div>\n",
       "<style scoped>\n",
       "    .dataframe tbody tr th:only-of-type {\n",
       "        vertical-align: middle;\n",
       "    }\n",
       "\n",
       "    .dataframe tbody tr th {\n",
       "        vertical-align: top;\n",
       "    }\n",
       "\n",
       "    .dataframe thead th {\n",
       "        text-align: right;\n",
       "    }\n",
       "</style>\n",
       "<table border=\"1\" class=\"dataframe\">\n",
       "  <thead>\n",
       "    <tr style=\"text-align: right;\">\n",
       "      <th></th>\n",
       "      <th>date</th>\n",
       "      <th>cases</th>\n",
       "    </tr>\n",
       "  </thead>\n",
       "  <tbody>\n",
       "    <tr>\n",
       "      <th>411</th>\n",
       "      <td>26/04/2021</td>\n",
       "      <td>37312.0</td>\n",
       "    </tr>\n",
       "    <tr>\n",
       "      <th>412</th>\n",
       "      <td>27/04/2021</td>\n",
       "      <td>43301.0</td>\n",
       "    </tr>\n",
       "    <tr>\n",
       "      <th>413</th>\n",
       "      <td>28/04/2021</td>\n",
       "      <td>40444.0</td>\n",
       "    </tr>\n",
       "    <tr>\n",
       "      <th>414</th>\n",
       "      <td>29/04/2021</td>\n",
       "      <td>37674.0</td>\n",
       "    </tr>\n",
       "    <tr>\n",
       "      <th>415</th>\n",
       "      <td>30/04/2021</td>\n",
       "      <td>31891.0</td>\n",
       "    </tr>\n",
       "    <tr>\n",
       "      <th>...</th>\n",
       "      <td>...</td>\n",
       "      <td>...</td>\n",
       "    </tr>\n",
       "    <tr>\n",
       "      <th>468</th>\n",
       "      <td>22/06/2021</td>\n",
       "      <td>6143.0</td>\n",
       "    </tr>\n",
       "    <tr>\n",
       "      <th>469</th>\n",
       "      <td>23/06/2021</td>\n",
       "      <td>5809.0</td>\n",
       "    </tr>\n",
       "    <tr>\n",
       "      <th>470</th>\n",
       "      <td>24/06/2021</td>\n",
       "      <td>5703.0</td>\n",
       "    </tr>\n",
       "    <tr>\n",
       "      <th>471</th>\n",
       "      <td>25/06/2021</td>\n",
       "      <td>5630.0</td>\n",
       "    </tr>\n",
       "    <tr>\n",
       "      <th>472</th>\n",
       "      <td>26/06/2021</td>\n",
       "      <td>5266.0</td>\n",
       "    </tr>\n",
       "  </tbody>\n",
       "</table>\n",
       "<p>62 rows × 2 columns</p>\n",
       "</div>"
      ],
      "text/plain": [
       "           date    cases\n",
       "411  26/04/2021  37312.0\n",
       "412  27/04/2021  43301.0\n",
       "413  28/04/2021  40444.0\n",
       "414  29/04/2021  37674.0\n",
       "415  30/04/2021  31891.0\n",
       "..          ...      ...\n",
       "468  22/06/2021   6143.0\n",
       "469  23/06/2021   5809.0\n",
       "470  24/06/2021   5703.0\n",
       "471  25/06/2021   5630.0\n",
       "472  26/06/2021   5266.0\n",
       "\n",
       "[62 rows x 2 columns]"
      ]
     },
     "execution_count": 5,
     "metadata": {},
     "output_type": "execute_result"
    }
   ],
   "source": [
    "df1 = df1.loc[411:472]\n",
    "df1"
   ]
  },
  {
   "cell_type": "markdown",
   "metadata": {},
   "source": [
    "We should divide the dataset into two according to the date of 26.05.2021."
   ]
  },
  {
   "cell_type": "code",
   "execution_count": 6,
   "metadata": {},
   "outputs": [],
   "source": [
    "df1_before = pd.DataFrame(df1.loc[411:441][\"cases\"])\n",
    "df1_before.reset_index(drop = True, inplace = True)\n",
    "df1_after = pd.DataFrame(df1.loc[441:472][\"cases\"])\n",
    "df1_after.reset_index(drop = True, inplace = True)"
   ]
  },
  {
   "cell_type": "markdown",
   "metadata": {},
   "source": [
    "Data manipulation;"
   ]
  },
  {
   "cell_type": "code",
   "execution_count": 7,
   "metadata": {},
   "outputs": [
    {
     "name": "stdout",
     "output_type": "stream",
     "text": [
      "Seperate Dataset: \n",
      "\n",
      "     before   after\n",
      "0  37312.0  8738.0\n",
      "1  43301.0  8426.0\n",
      "2  40444.0  7773.0\n",
      "3  37674.0  7656.0\n",
      "4  31891.0  6933.0 \n",
      "\n",
      "\n",
      "Entire Dataset: \n",
      "\n",
      "       Case Before-After\n",
      "0  37312.0       Before\n",
      "1  43301.0       Before\n",
      "2  40444.0       Before\n",
      "3  37674.0       Before\n",
      "4  31891.0       Before \n",
      "\n",
      "\n"
     ]
    }
   ],
   "source": [
    "# Dataset 1\n",
    "sep = pd.concat([df1_before, df1_after], axis = 1)\n",
    "sep.columns = [\"before\", \"after\"]\n",
    "sep.before[31] = sep.before.mean()\n",
    "print(\"Seperate Dataset: \\n\\n\", sep.head(), \"\\n\\n\")\n",
    "\n",
    "# Dataset 2\n",
    "# Before BionTech vaccine group;\n",
    "before = np.arange(len(df1_before))\n",
    "before = pd.DataFrame(before)\n",
    "before[:] = \"Before\"\n",
    "A = pd.concat([df1_before, before], axis = 1)\n",
    "\n",
    "# After BionTech vaccine group;\n",
    "after = np.arange(len(df1_after))\n",
    "after = pd.DataFrame(after)\n",
    "after[:] = \"After\"\n",
    "B = pd.concat([df1_after, after], axis = 1)\n",
    "\n",
    "# Entire data;\n",
    "entire_data = pd.concat([A,B])\n",
    "entire_data\n",
    "\n",
    "entire_data.columns = [\"Case\", \"Before-After\"]\n",
    "print(\"Entire Dataset: \\n\\n\", entire_data.head(), \"\\n\\n\")"
   ]
  },
  {
   "cell_type": "code",
   "execution_count": 8,
   "metadata": {},
   "outputs": [
    {
     "data": {
      "image/png": "[encoded data removed]",
      "text/plain": [
       "<Figure size 432x288 with 1 Axes>"
      ]
     },
     "metadata": {
      "needs_background": "light"
     },
     "output_type": "display_data"
    }
   ],
   "source": [
    "sns.boxplot(x = \"Before-After\", y = \"Case\", data = entire_data);"
   ]
  },
  {
   "cell_type": "markdown",
   "metadata": {},
   "source": [
    "We can see the BionTech vaccine effect on cases on this box plot. But now, let's question the reality of the information we get from this graph with the Two Sample T Test.\n",
    "\n",
    "First, we need to control the normality assumption."
   ]
  },
  {
   "cell_type": "code",
   "execution_count": 9,
   "metadata": {},
   "outputs": [
    {
     "data": {
      "text/plain": [
       "ShapiroResult(statistic=0.8636682033538818, pvalue=0.000832327757962048)"
      ]
     },
     "execution_count": 9,
     "metadata": {},
     "output_type": "execute_result"
    }
   ],
   "source": [
    "shapiro(sep.before)"
   ]
  },
  {
   "cell_type": "markdown",
   "metadata": {},
   "source": [
    "Since the p-value < 0.05, the H0 hypothesis can be rejected. "
   ]
  },
  {
   "cell_type": "code",
   "execution_count": 10,
   "metadata": {},
   "outputs": [
    {
     "data": {
      "text/plain": [
       "ShapiroResult(statistic=0.9170056581497192, pvalue=0.017258433625102043)"
      ]
     },
     "execution_count": 10,
     "metadata": {},
     "output_type": "execute_result"
    }
   ],
   "source": [
    "shapiro(sep.after)"
   ]
  },
  {
   "cell_type": "markdown",
   "metadata": {},
   "source": [
    "Since the p-value < 0.05, the H0 hypothesis can be rejected. \n",
    "\n",
    "Assumption of normality is provided for both groups.\n",
    "\n",
    "Now, we need to control homogeneity of variance assumption."
   ]
  },
  {
   "cell_type": "code",
   "execution_count": 11,
   "metadata": {},
   "outputs": [
    {
     "data": {
      "text/plain": [
       "LeveneResult(statistic=29.615598438083506, pvalue=9.529735710651949e-07)"
      ]
     },
     "execution_count": 11,
     "metadata": {},
     "output_type": "execute_result"
    }
   ],
   "source": [
    "stats.levene(sep.before, sep.after)"
   ]
  },
  {
   "cell_type": "markdown",
   "metadata": {},
   "source": [
    "H0 hypothesis is rejected because p-value < 0.05. Therefore, the assumption of homogeneity of variance is not provided. The lack of homogeneity of variance in the dependent two-sample T-test can be ignored.\n",
    "\n",
    "Now, the last step, let's do the hypothesis test."
   ]
  },
  {
   "cell_type": "code",
   "execution_count": 12,
   "metadata": {},
   "outputs": [
    {
     "data": {
      "text/plain": [
       "Ttest_relResult(statistic=7.14542371462148, pvalue=4.959317636709579e-08)"
      ]
     },
     "execution_count": 12,
     "metadata": {},
     "output_type": "execute_result"
    }
   ],
   "source": [
    "result = stats.ttest_rel(sep.before, sep.after)\n",
    "result"
   ]
  },
  {
   "cell_type": "code",
   "execution_count": 13,
   "metadata": {},
   "outputs": [
    {
     "name": "stdout",
     "output_type": "stream",
     "text": [
      "BionTech vaccine is useful for coronavirus.\n"
     ]
    }
   ],
   "source": [
    "if result.pvalue < 0.05:\n",
    "    print(\"BionTech vaccine is useful for coronavirus.\")\n",
    "else:\n",
    "    print(\"BionTech vaccine is not useful for coronavirus.\")"
   ]
  },
  {
   "cell_type": "markdown",
   "metadata": {},
   "source": [
    "H0 hypothesis is rejected because p-value < 0.05. In other words, there is a difference after BionTech vaccination. Vaccination has positively affected the cases."
   ]
  },
  {
   "cell_type": "code",
   "execution_count": null,
   "metadata": {},
   "outputs": [],
   "source": []
  }
 ],
 "metadata": {
  "kernelspec": {
   "display_name": "Python 3",
   "language": "python",
   "name": "python3"
  },
  "language_info": {
   "codemirror_mode": {
    "name": "ipython",
    "version": 3
   },
   "file_extension": ".py",
   "mimetype": "text/x-python",
   "name": "python",
   "nbconvert_exporter": "python",
   "pygments_lexer": "ipython3",
   "version": "3.8.5"
  }
 },
 "nbformat": 4,
 "nbformat_minor": 4
}
